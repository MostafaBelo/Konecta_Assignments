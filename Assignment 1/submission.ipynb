{
 "cells": [
  {
   "cell_type": "markdown",
   "id": "e8cb9488",
   "metadata": {},
   "source": [
    "## Full Repo\n",
    "\n",
    "https://github.com/MostafaBelo/Konecta_Assignments/tree/main"
   ]
  },
  {
   "cell_type": "markdown",
   "id": "b008659a",
   "metadata": {},
   "source": [
    "## Imports"
   ]
  },
  {
   "cell_type": "code",
   "execution_count": 1,
   "id": "79a069cd",
   "metadata": {},
   "outputs": [],
   "source": [
    "import pandas as pd\n",
    "import numpy as np\n",
    "from matplotlib import pyplot as plt"
   ]
  },
  {
   "cell_type": "code",
   "execution_count": 2,
   "id": "bc4f4c81",
   "metadata": {},
   "outputs": [],
   "source": [
    "# Prints all unique items per column as well as how many different unique items are there\n",
    "def print_uniques(df):\n",
    "    for key in df:\n",
    "        uq_items = df[key].unique()\n",
    "        if (len(uq_items) > 20):\n",
    "            print(f\"{key} - {len(uq_items)}\\t|\\tMany Items\")\n",
    "        else:\n",
    "            print(f\"{key} - {len(uq_items)}\\t|\\t{uq_items}\")\n",
    "\n",
    "# Counts how many empty values are there per column\n",
    "def count_empty(df):\n",
    "    return ((df == \"ERROR\") | (df == \"UNKNOWN\") | (df.isnull()) | (df == \"unknown\") | (df == \"error\")).sum()"
   ]
  },
  {
   "cell_type": "markdown",
   "id": "9f2c201f",
   "metadata": {},
   "source": [
    "## 1) Initial Exploration"
   ]
  },
  {
   "cell_type": "code",
   "execution_count": 3,
   "id": "43b97cb3",
   "metadata": {},
   "outputs": [],
   "source": [
    "df = pd.read_csv(\"dirty_cafe_sales.csv\")"
   ]
  },
  {
   "cell_type": "code",
   "execution_count": 4,
   "id": "ce44bb45",
   "metadata": {},
   "outputs": [
    {
     "name": "stdout",
     "output_type": "stream",
     "text": [
      "<class 'pandas.core.frame.DataFrame'>\n",
      "RangeIndex: 10000 entries, 0 to 9999\n",
      "Data columns (total 8 columns):\n",
      " #   Column            Non-Null Count  Dtype \n",
      "---  ------            --------------  ----- \n",
      " 0   Transaction ID    10000 non-null  object\n",
      " 1   Item              9667 non-null   object\n",
      " 2   Quantity          9862 non-null   object\n",
      " 3   Price Per Unit    9821 non-null   object\n",
      " 4   Total Spent       9827 non-null   object\n",
      " 5   Payment Method    7421 non-null   object\n",
      " 6   Location          6735 non-null   object\n",
      " 7   Transaction Date  9841 non-null   object\n",
      "dtypes: object(8)\n",
      "memory usage: 625.1+ KB\n"
     ]
    }
   ],
   "source": [
    "df.info()"
   ]
  },
  {
   "cell_type": "code",
   "execution_count": 5,
   "id": "16f8dd31",
   "metadata": {},
   "outputs": [
    {
     "data": {
      "text/html": [
       "<div>\n",
       "<style scoped>\n",
       "    .dataframe tbody tr th:only-of-type {\n",
       "        vertical-align: middle;\n",
       "    }\n",
       "\n",
       "    .dataframe tbody tr th {\n",
       "        vertical-align: top;\n",
       "    }\n",
       "\n",
       "    .dataframe thead th {\n",
       "        text-align: right;\n",
       "    }\n",
       "</style>\n",
       "<table border=\"1\" class=\"dataframe\">\n",
       "  <thead>\n",
       "    <tr style=\"text-align: right;\">\n",
       "      <th></th>\n",
       "      <th>Transaction ID</th>\n",
       "      <th>Item</th>\n",
       "      <th>Quantity</th>\n",
       "      <th>Price Per Unit</th>\n",
       "      <th>Total Spent</th>\n",
       "      <th>Payment Method</th>\n",
       "      <th>Location</th>\n",
       "      <th>Transaction Date</th>\n",
       "    </tr>\n",
       "  </thead>\n",
       "  <tbody>\n",
       "    <tr>\n",
       "      <th>count</th>\n",
       "      <td>10000</td>\n",
       "      <td>9667</td>\n",
       "      <td>9862</td>\n",
       "      <td>9821</td>\n",
       "      <td>9827</td>\n",
       "      <td>7421</td>\n",
       "      <td>6735</td>\n",
       "      <td>9841</td>\n",
       "    </tr>\n",
       "    <tr>\n",
       "      <th>unique</th>\n",
       "      <td>10000</td>\n",
       "      <td>10</td>\n",
       "      <td>7</td>\n",
       "      <td>8</td>\n",
       "      <td>19</td>\n",
       "      <td>5</td>\n",
       "      <td>4</td>\n",
       "      <td>367</td>\n",
       "    </tr>\n",
       "    <tr>\n",
       "      <th>top</th>\n",
       "      <td>TXN_1961373</td>\n",
       "      <td>Juice</td>\n",
       "      <td>5</td>\n",
       "      <td>3.0</td>\n",
       "      <td>6.0</td>\n",
       "      <td>Digital Wallet</td>\n",
       "      <td>Takeaway</td>\n",
       "      <td>UNKNOWN</td>\n",
       "    </tr>\n",
       "    <tr>\n",
       "      <th>freq</th>\n",
       "      <td>1</td>\n",
       "      <td>1171</td>\n",
       "      <td>2013</td>\n",
       "      <td>2429</td>\n",
       "      <td>979</td>\n",
       "      <td>2291</td>\n",
       "      <td>3022</td>\n",
       "      <td>159</td>\n",
       "    </tr>\n",
       "  </tbody>\n",
       "</table>\n",
       "</div>"
      ],
      "text/plain": [
       "       Transaction ID   Item Quantity Price Per Unit Total Spent  \\\n",
       "count           10000   9667     9862           9821        9827   \n",
       "unique          10000     10        7              8          19   \n",
       "top       TXN_1961373  Juice        5            3.0         6.0   \n",
       "freq                1   1171     2013           2429         979   \n",
       "\n",
       "        Payment Method  Location Transaction Date  \n",
       "count             7421      6735             9841  \n",
       "unique               5         4              367  \n",
       "top     Digital Wallet  Takeaway          UNKNOWN  \n",
       "freq              2291      3022              159  "
      ]
     },
     "execution_count": 5,
     "metadata": {},
     "output_type": "execute_result"
    }
   ],
   "source": [
    "df.describe()"
   ]
  },
  {
   "cell_type": "code",
   "execution_count": 6,
   "id": "ea1602d7",
   "metadata": {},
   "outputs": [
    {
     "data": {
      "text/html": [
       "<div>\n",
       "<style scoped>\n",
       "    .dataframe tbody tr th:only-of-type {\n",
       "        vertical-align: middle;\n",
       "    }\n",
       "\n",
       "    .dataframe tbody tr th {\n",
       "        vertical-align: top;\n",
       "    }\n",
       "\n",
       "    .dataframe thead th {\n",
       "        text-align: right;\n",
       "    }\n",
       "</style>\n",
       "<table border=\"1\" class=\"dataframe\">\n",
       "  <thead>\n",
       "    <tr style=\"text-align: right;\">\n",
       "      <th></th>\n",
       "      <th>Transaction ID</th>\n",
       "      <th>Item</th>\n",
       "      <th>Quantity</th>\n",
       "      <th>Price Per Unit</th>\n",
       "      <th>Total Spent</th>\n",
       "      <th>Payment Method</th>\n",
       "      <th>Location</th>\n",
       "      <th>Transaction Date</th>\n",
       "    </tr>\n",
       "  </thead>\n",
       "  <tbody>\n",
       "    <tr>\n",
       "      <th>0</th>\n",
       "      <td>TXN_1961373</td>\n",
       "      <td>Coffee</td>\n",
       "      <td>2</td>\n",
       "      <td>2.0</td>\n",
       "      <td>4.0</td>\n",
       "      <td>Credit Card</td>\n",
       "      <td>Takeaway</td>\n",
       "      <td>2023-09-08</td>\n",
       "    </tr>\n",
       "    <tr>\n",
       "      <th>1</th>\n",
       "      <td>TXN_4977031</td>\n",
       "      <td>Cake</td>\n",
       "      <td>4</td>\n",
       "      <td>3.0</td>\n",
       "      <td>12.0</td>\n",
       "      <td>Cash</td>\n",
       "      <td>In-store</td>\n",
       "      <td>2023-05-16</td>\n",
       "    </tr>\n",
       "    <tr>\n",
       "      <th>2</th>\n",
       "      <td>TXN_4271903</td>\n",
       "      <td>Cookie</td>\n",
       "      <td>4</td>\n",
       "      <td>1.0</td>\n",
       "      <td>ERROR</td>\n",
       "      <td>Credit Card</td>\n",
       "      <td>In-store</td>\n",
       "      <td>2023-07-19</td>\n",
       "    </tr>\n",
       "    <tr>\n",
       "      <th>3</th>\n",
       "      <td>TXN_7034554</td>\n",
       "      <td>Salad</td>\n",
       "      <td>2</td>\n",
       "      <td>5.0</td>\n",
       "      <td>10.0</td>\n",
       "      <td>UNKNOWN</td>\n",
       "      <td>UNKNOWN</td>\n",
       "      <td>2023-04-27</td>\n",
       "    </tr>\n",
       "    <tr>\n",
       "      <th>4</th>\n",
       "      <td>TXN_3160411</td>\n",
       "      <td>Coffee</td>\n",
       "      <td>2</td>\n",
       "      <td>2.0</td>\n",
       "      <td>4.0</td>\n",
       "      <td>Digital Wallet</td>\n",
       "      <td>In-store</td>\n",
       "      <td>2023-06-11</td>\n",
       "    </tr>\n",
       "  </tbody>\n",
       "</table>\n",
       "</div>"
      ],
      "text/plain": [
       "  Transaction ID    Item Quantity Price Per Unit Total Spent  Payment Method  \\\n",
       "0    TXN_1961373  Coffee        2            2.0         4.0     Credit Card   \n",
       "1    TXN_4977031    Cake        4            3.0        12.0            Cash   \n",
       "2    TXN_4271903  Cookie        4            1.0       ERROR     Credit Card   \n",
       "3    TXN_7034554   Salad        2            5.0        10.0         UNKNOWN   \n",
       "4    TXN_3160411  Coffee        2            2.0         4.0  Digital Wallet   \n",
       "\n",
       "   Location Transaction Date  \n",
       "0  Takeaway       2023-09-08  \n",
       "1  In-store       2023-05-16  \n",
       "2  In-store       2023-07-19  \n",
       "3   UNKNOWN       2023-04-27  \n",
       "4  In-store       2023-06-11  "
      ]
     },
     "execution_count": 6,
     "metadata": {},
     "output_type": "execute_result"
    }
   ],
   "source": [
    "df.head()"
   ]
  },
  {
   "cell_type": "code",
   "execution_count": 7,
   "id": "43a36950",
   "metadata": {},
   "outputs": [
    {
     "data": {
      "text/plain": [
       "Transaction ID         0\n",
       "Item                 333\n",
       "Quantity             138\n",
       "Price Per Unit       179\n",
       "Total Spent          173\n",
       "Payment Method      2579\n",
       "Location            3265\n",
       "Transaction Date     159\n",
       "dtype: int64"
      ]
     },
     "execution_count": 7,
     "metadata": {},
     "output_type": "execute_result"
    }
   ],
   "source": [
    "df.isnull().sum()"
   ]
  },
  {
   "cell_type": "code",
   "execution_count": 8,
   "id": "2a2624f9",
   "metadata": {},
   "outputs": [
    {
     "name": "stdout",
     "output_type": "stream",
     "text": [
      "Transaction ID - 10000\t|\tMany Items\n",
      "Item - 11\t|\t['Coffee' 'Cake' 'Cookie' 'Salad' 'Smoothie' 'UNKNOWN' 'Sandwich' nan\n",
      " 'ERROR' 'Juice' 'Tea']\n",
      "Quantity - 8\t|\t['2' '4' '5' '3' '1' 'ERROR' 'UNKNOWN' nan]\n",
      "Price Per Unit - 9\t|\t['2.0' '3.0' '1.0' '5.0' '4.0' '1.5' nan 'ERROR' 'UNKNOWN']\n",
      "Total Spent - 20\t|\t['4.0' '12.0' 'ERROR' '10.0' '20.0' '9.0' '16.0' '15.0' '25.0' '8.0' '5.0'\n",
      " '3.0' '6.0' nan 'UNKNOWN' '2.0' '1.0' '7.5' '4.5' '1.5']\n",
      "Payment Method - 6\t|\t['Credit Card' 'Cash' 'UNKNOWN' 'Digital Wallet' 'ERROR' nan]\n",
      "Location - 5\t|\t['Takeaway' 'In-store' 'UNKNOWN' nan 'ERROR']\n",
      "Transaction Date - 368\t|\tMany Items\n"
     ]
    }
   ],
   "source": [
    "print_uniques(df)"
   ]
  },
  {
   "cell_type": "code",
   "execution_count": 9,
   "id": "60244d4c",
   "metadata": {},
   "outputs": [
    {
     "data": {
      "text/plain": [
       "Transaction ID         0\n",
       "Item                 969\n",
       "Quantity             479\n",
       "Price Per Unit       533\n",
       "Total Spent          502\n",
       "Payment Method      3178\n",
       "Location            3961\n",
       "Transaction Date     460\n",
       "dtype: int64"
      ]
     },
     "execution_count": 9,
     "metadata": {},
     "output_type": "execute_result"
    }
   ],
   "source": [
    "count_empty(df)"
   ]
  },
  {
   "cell_type": "markdown",
   "id": "a4bde4a2",
   "metadata": {},
   "source": [
    "## 2) Handle Missing or Placeholder Entries"
   ]
  },
  {
   "cell_type": "code",
   "execution_count": 10,
   "id": "aa0c81cd",
   "metadata": {},
   "outputs": [
    {
     "name": "stdout",
     "output_type": "stream",
     "text": [
      "Transaction ID - 10000\t|\tMany Items\n",
      "Item - 9\t|\t['Coffee' 'Cake' 'Cookie' 'Salad' 'Smoothie' nan 'Sandwich' 'Juice' 'Tea']\n",
      "Quantity - 6\t|\t['2' '4' '5' '3' '1' nan]\n",
      "Price Per Unit - 7\t|\t['2.0' '3.0' '1.0' '5.0' '4.0' '1.5' nan]\n",
      "Total Spent - 18\t|\t['4.0' '12.0' nan '10.0' '20.0' '9.0' '16.0' '15.0' '25.0' '8.0' '5.0'\n",
      " '3.0' '6.0' '2.0' '1.0' '7.5' '4.5' '1.5']\n",
      "Payment Method - 4\t|\t['Credit Card' 'Cash' nan 'Digital Wallet']\n",
      "Location - 3\t|\t['Takeaway' 'In-store' nan]\n",
      "Transaction Date - 366\t|\tMany Items\n"
     ]
    }
   ],
   "source": [
    "df2 = df.copy()\n",
    "\n",
    "df2[df2 == \"ERROR\"] = np.nan\n",
    "df2[df2 == \"UNKNOWN\"] = np.nan\n",
    "df2[df2.isnull()] = np.nan\n",
    "\n",
    "print_uniques(df2)"
   ]
  },
  {
   "cell_type": "markdown",
   "id": "7053989f",
   "metadata": {},
   "source": [
    "## 3) Impute Logical Relationships"
   ]
  },
  {
   "cell_type": "code",
   "execution_count": 11,
   "id": "ae67b165",
   "metadata": {},
   "outputs": [
    {
     "data": {
      "text/plain": [
       "(Transaction ID         0\n",
       " Item                 969\n",
       " Quantity              38\n",
       " Price Per Unit        38\n",
       " Total Spent           40\n",
       " Payment Method      3178\n",
       " Location            3961\n",
       " Transaction Date     460\n",
       " dtype: Int64,\n",
       " 10000,\n",
       " 9942)"
      ]
     },
     "execution_count": 11,
     "metadata": {},
     "output_type": "execute_result"
    }
   ],
   "source": [
    "df2[\"Quantity\"] = df2[\"Quantity\"].astype(\"Int32\")\n",
    "df2[\"Price Per Unit\"] = df2[\"Price Per Unit\"].astype(\"Float32\")\n",
    "df2[\"Total Spent\"] = df2[\"Total Spent\"].astype(\"Float32\")\n",
    "\n",
    "df2 = df2.convert_dtypes()\n",
    "\n",
    "df2.loc[df2[\"Total Spent\"].isnull(), \"Total Spent\"] = df2[\"Quantity\"] * df2[\"Price Per Unit\"]\n",
    "df2.loc[df2[\"Quantity\"].isnull(), \"Quantity\"] = df2[\"Total Spent\"] / df2[\"Price Per Unit\"]\n",
    "df2.loc[df2[\"Price Per Unit\"].isnull(), \"Price Per Unit\"] = df2[\"Total Spent\"] / df2[\"Quantity\"]\n",
    "\n",
    "df3 = df2.dropna(subset=[\"Total Spent\", \"Quantity\", \"Price Per Unit\"]).copy()\n",
    "\n",
    "count_empty(df2), len(df2), len(df3)"
   ]
  },
  {
   "cell_type": "markdown",
   "id": "b45fc8e4",
   "metadata": {},
   "source": [
    "## 4) Normalize Date Column"
   ]
  },
  {
   "cell_type": "code",
   "execution_count": 12,
   "id": "fdaf10e6",
   "metadata": {},
   "outputs": [
    {
     "data": {
      "text/plain": [
       "Transaction ID      string[python]\n",
       "Item                string[python]\n",
       "Quantity                     Int32\n",
       "Price Per Unit             Float32\n",
       "Total Spent                Float32\n",
       "Payment Method      string[python]\n",
       "Location            string[python]\n",
       "Transaction Date    datetime64[ns]\n",
       "dtype: object"
      ]
     },
     "execution_count": 12,
     "metadata": {},
     "output_type": "execute_result"
    }
   ],
   "source": [
    "# Step 1: Convert to datetime, coerce errors (invalid formats → NaT)\n",
    "df3[\"Transaction Date\"] = pd.to_datetime(df3[\"Transaction Date\"], errors=\"coerce\")\n",
    "\n",
    "# Step 2: Sort by Transaction Date\n",
    "df3.sort_values(\"Transaction Date\", inplace=True)\n",
    "\n",
    "# Step 3: Fill missing dates using forward-fill, then backward-fill (for leading NaNs)\n",
    "df3[\"Transaction Date\"] = df3[\"Transaction Date\"].ffill().bfill()\n",
    "\n",
    "df3.dtypes"
   ]
  },
  {
   "cell_type": "markdown",
   "id": "bd56729c",
   "metadata": {},
   "source": [
    "## 5) Standardize Categorical Columns"
   ]
  },
  {
   "cell_type": "code",
   "execution_count": 13,
   "id": "daf93686",
   "metadata": {},
   "outputs": [
    {
     "data": {
      "text/plain": [
       "Transaction ID      string[python]\n",
       "Item                string[python]\n",
       "Quantity                     Int32\n",
       "Price Per Unit             Float32\n",
       "Total Spent                Float32\n",
       "Payment Method      string[python]\n",
       "Location            string[python]\n",
       "Transaction Date    datetime64[ns]\n",
       "dtype: object"
      ]
     },
     "execution_count": 13,
     "metadata": {},
     "output_type": "execute_result"
    }
   ],
   "source": [
    "df3.dtypes"
   ]
  },
  {
   "cell_type": "code",
   "execution_count": 14,
   "id": "11d3883f",
   "metadata": {},
   "outputs": [
    {
     "name": "stdout",
     "output_type": "stream",
     "text": [
      "Transaction ID - 9942\t|\tMany Items\n",
      "Item - 9\t|\t<StringArray>\n",
      "['sandwich',      'tea',   'coffee',     'cake',    'juice',    'salad',\n",
      "   'cookie', 'smoothie',  'unknown']\n",
      "Length: 9, dtype: string\n",
      "Quantity - 5\t|\t<IntegerArray>\n",
      "[5, 2, 1, 3, 4]\n",
      "Length: 5, dtype: Int32\n",
      "Price Per Unit - 6\t|\t<FloatingArray>\n",
      "[4.0, 1.5, 2.0, 3.0, 5.0, 1.0]\n",
      "Length: 6, dtype: Float32\n",
      "Total Spent - 17\t|\t<FloatingArray>\n",
      "[20.0,  7.5,  4.0,  9.0,  8.0,  3.0, 12.0, 10.0, 15.0,  4.5,  2.0,  5.0,  6.0,\n",
      "  1.5, 16.0, 25.0,  1.0]\n",
      "Length: 17, dtype: Float32\n",
      "Payment Method - 3\t|\t<StringArray>\n",
      "['card', 'unknown', 'cash']\n",
      "Length: 3, dtype: string\n",
      "Location - 3\t|\t<StringArray>\n",
      "['in-store', 'takeaway', 'unknown']\n",
      "Length: 3, dtype: string\n",
      "Transaction Date - 365\t|\tMany Items\n"
     ]
    },
    {
     "data": {
      "text/plain": [
       "(None, 9942)"
      ]
     },
     "execution_count": 14,
     "metadata": {},
     "output_type": "execute_result"
    }
   ],
   "source": [
    "df3[\"Item\"] = df3[\"Item\"].str.lower()\n",
    "df3[\"Payment Method\"] = df3[\"Payment Method\"].str.lower()\n",
    "df3[\"Location\"] = df3[\"Location\"].str.lower()\n",
    "\n",
    "df3[\"Item\"] = df3[\"Item\"].str.strip()\n",
    "df3[\"Payment Method\"] = df3[\"Payment Method\"].str.strip()\n",
    "df3[\"Location\"] = df3[\"Location\"].str.strip()\n",
    "\n",
    "df3.loc[df3[\"Item\"].isnull(), \"Item\"] = \"unknown\"\n",
    "df3.loc[df3[\"Payment Method\"] == \"digital wallet\", \"Payment Method\"] = \"card\"\n",
    "df3.loc[df3[\"Payment Method\"] == \"credit card\", \"Payment Method\"] = \"card\"\n",
    "df3.loc[df3[\"Payment Method\"].isnull(), \"Payment Method\"] = \"unknown\"\n",
    "df3.loc[df3[\"Location\"].isnull(), \"Location\"] = \"unknown\"\n",
    "\n",
    "print_uniques(df3), len(df3)"
   ]
  },
  {
   "cell_type": "markdown",
   "id": "872ede06",
   "metadata": {},
   "source": [
    "## 6) Remove Duplicates"
   ]
  },
  {
   "cell_type": "code",
   "execution_count": 15,
   "id": "ea2248c4",
   "metadata": {},
   "outputs": [
    {
     "name": "stdout",
     "output_type": "stream",
     "text": [
      "Transaction ID - 9942\t|\tMany Items\n",
      "Item - 9\t|\t<StringArray>\n",
      "['sandwich',      'tea',   'coffee',     'cake',    'juice',    'salad',\n",
      "   'cookie', 'smoothie',  'unknown']\n",
      "Length: 9, dtype: string\n",
      "Quantity - 5\t|\t<IntegerArray>\n",
      "[5, 2, 1, 3, 4]\n",
      "Length: 5, dtype: Int32\n",
      "Price Per Unit - 6\t|\t<FloatingArray>\n",
      "[4.0, 1.5, 2.0, 3.0, 5.0, 1.0]\n",
      "Length: 6, dtype: Float32\n",
      "Total Spent - 17\t|\t<FloatingArray>\n",
      "[20.0,  7.5,  4.0,  9.0,  8.0,  3.0, 12.0, 10.0, 15.0,  4.5,  2.0,  5.0,  6.0,\n",
      "  1.5, 16.0, 25.0,  1.0]\n",
      "Length: 17, dtype: Float32\n",
      "Payment Method - 3\t|\t<StringArray>\n",
      "['card', 'unknown', 'cash']\n",
      "Length: 3, dtype: string\n",
      "Location - 3\t|\t<StringArray>\n",
      "['in-store', 'takeaway', 'unknown']\n",
      "Length: 3, dtype: string\n",
      "Transaction Date - 365\t|\tMany Items\n"
     ]
    },
    {
     "data": {
      "text/plain": [
       "(None, 9942)"
      ]
     },
     "execution_count": 15,
     "metadata": {},
     "output_type": "execute_result"
    }
   ],
   "source": [
    "df3.drop_duplicates(inplace=True)\n",
    "\n",
    "print_uniques(df3), len(df3)"
   ]
  },
  {
   "cell_type": "markdown",
   "id": "3e2b738a",
   "metadata": {},
   "source": [
    "## 7) Type Conversion & Validation"
   ]
  },
  {
   "cell_type": "code",
   "execution_count": 16,
   "id": "49c1c420",
   "metadata": {},
   "outputs": [
    {
     "data": {
      "text/plain": [
       "Transaction ID      string[python]\n",
       "Item                string[python]\n",
       "Quantity                     int32\n",
       "Price Per Unit             float32\n",
       "Total Spent                float32\n",
       "Payment Method      string[python]\n",
       "Location            string[python]\n",
       "Transaction Date    datetime64[ns]\n",
       "dtype: object"
      ]
     },
     "execution_count": 16,
     "metadata": {},
     "output_type": "execute_result"
    }
   ],
   "source": [
    "df3[\"Transaction ID\"] = df3[\"Transaction ID\"].astype(\"string\")\n",
    "df3[\"Item\"] = df3[\"Item\"].astype(\"string\")\n",
    "\n",
    "df3[\"Quantity\"] = df3[\"Quantity\"].astype(\"int32\")\n",
    "df3[\"Price Per Unit\"] = df3[\"Price Per Unit\"].astype(\"float32\")\n",
    "df3[\"Total Spent\"] = df3[\"Total Spent\"].astype(\"float32\")\n",
    "\n",
    "df3[\"Payment Method\"] = df3[\"Payment Method\"].astype(\"string\")\n",
    "df3[\"Location\"] = df3[\"Location\"].astype(\"string\")\n",
    "\n",
    "df3[\"Transaction Date\"] = pd.to_datetime(df3[\"Transaction Date\"], errors=\"coerce\")\n",
    "\n",
    "df3.dtypes"
   ]
  },
  {
   "cell_type": "markdown",
   "id": "51186657",
   "metadata": {},
   "source": [
    "## 8) Outlier Detection"
   ]
  },
  {
   "cell_type": "markdown",
   "id": "487dc277",
   "metadata": {},
   "source": [
    "##### Quantity, and Price Per Unit both seem to not have any outliers. Since Total Spent is the product of the other two columns, the variety in the Total Spent doesn't seem that large or abnormal"
   ]
  },
  {
   "cell_type": "code",
   "execution_count": 17,
   "id": "49508245",
   "metadata": {},
   "outputs": [
    {
     "data": {
      "image/png": "[encoded data removed]",
      "text/plain": [
       "<Figure size 640x480 with 1 Axes>"
      ]
     },
     "metadata": {},
     "output_type": "display_data"
    }
   ],
   "source": [
    "# Count frequency of values\n",
    "value_counts = df3[\"Quantity\"].value_counts()\n",
    "\n",
    "value_counts.sort_index(inplace=True)\n",
    "\n",
    "# Plot as bar chart\n",
    "value_counts.plot(kind=\"bar\");"
   ]
  },
  {
   "cell_type": "code",
   "execution_count": 18,
   "id": "9dfa4649",
   "metadata": {},
   "outputs": [
    {
     "data": {
      "image/png": "[encoded data removed]",
      "text/plain": [
       "<Figure size 640x480 with 1 Axes>"
      ]
     },
     "metadata": {},
     "output_type": "display_data"
    }
   ],
   "source": [
    "# Count frequency of values\n",
    "value_counts = df3[\"Price Per Unit\"].value_counts()\n",
    "\n",
    "value_counts.sort_index(inplace=True)\n",
    "\n",
    "# Plot as bar chart\n",
    "value_counts.plot(kind=\"bar\");"
   ]
  },
  {
   "cell_type": "code",
   "execution_count": 19,
   "id": "38b0e6ef",
   "metadata": {},
   "outputs": [
    {
     "data": {
      "image/png": "[encoded data removed]",
      "text/plain": [
       "<Figure size 640x480 with 1 Axes>"
      ]
     },
     "metadata": {},
     "output_type": "display_data"
    }
   ],
   "source": [
    "# Count frequency of values\n",
    "value_counts = df3[\"Total Spent\"].value_counts()\n",
    "\n",
    "value_counts.sort_index(inplace=True)\n",
    "\n",
    "# Plot as bar chart\n",
    "value_counts.plot(kind=\"bar\");"
   ]
  },
  {
   "cell_type": "markdown",
   "id": "9c882e47",
   "metadata": {},
   "source": [
    "## 9) Feature Engineering & Derived Columns"
   ]
  },
  {
   "cell_type": "code",
   "execution_count": 20,
   "id": "96c19742",
   "metadata": {},
   "outputs": [
    {
     "name": "stdout",
     "output_type": "stream",
     "text": [
      "Transaction ID - 9942\t|\tMany Items\n",
      "Item - 9\t|\t<StringArray>\n",
      "['sandwich',      'tea',   'coffee',     'cake',    'juice',    'salad',\n",
      "   'cookie', 'smoothie',  'unknown']\n",
      "Length: 9, dtype: string\n",
      "Quantity - 5\t|\t[5 2 1 3 4]\n",
      "Price Per Unit - 6\t|\t[4.  1.5 2.  3.  5.  1. ]\n",
      "Total Spent - 17\t|\t[20.   7.5  4.   9.   8.   3.  12.  10.  15.   4.5  2.   5.   6.   1.5\n",
      " 16.  25.   1. ]\n",
      "Payment Method - 3\t|\t<StringArray>\n",
      "['card', 'unknown', 'cash']\n",
      "Length: 3, dtype: string\n",
      "Location - 3\t|\t<StringArray>\n",
      "['in-store', 'takeaway', 'unknown']\n",
      "Length: 3, dtype: string\n",
      "Transaction Date - 365\t|\tMany Items\n",
      "Transaction Month - 12\t|\t[ 1  2  3  4  5  6  7  8  9 10 11 12]\n",
      "Transaction Weekday - 7\t|\t['Sunday' 'Monday' 'Tuesday' 'Wednesday' 'Thursday' 'Friday' 'Saturday']\n"
     ]
    }
   ],
   "source": [
    "df3[\"Transaction Month\"] = df3[\"Transaction Date\"].dt.month\n",
    "df3[\"Transaction Weekday\"] = df3[\"Transaction Date\"].dt.day_name()\n",
    "\n",
    "# No Hour since the original data only comprised the date (day/month/year), so .hour is just zeros\n",
    "# df3[\"Transaction Hour\"] = df3[\"Transaction Date\"].dt.hour\n",
    "\n",
    "print_uniques(df3)"
   ]
  },
  {
   "cell_type": "code",
   "execution_count": 21,
   "id": "633e0485",
   "metadata": {},
   "outputs": [
    {
     "data": {
      "text/plain": [
       "Item\n",
       "cake        3.00000\n",
       "coffee      2.00000\n",
       "cookie      1.00000\n",
       "juice       3.00000\n",
       "salad       5.00000\n",
       "sandwich    4.00000\n",
       "smoothie    4.00000\n",
       "tea         1.50000\n",
       "unknown     2.92731\n",
       "Name: Price Per Unit, dtype: float32"
      ]
     },
     "execution_count": 21,
     "metadata": {},
     "output_type": "execute_result"
    }
   ],
   "source": [
    "avg_item_price = df3.groupby(\"Item\")[\"Price Per Unit\"].mean()\n",
    "\n",
    "avg_item_price"
   ]
  },
  {
   "cell_type": "code",
   "execution_count": 22,
   "id": "07e5acaa",
   "metadata": {},
   "outputs": [
    {
     "data": {
      "text/html": [
       "<div>\n",
       "<style scoped>\n",
       "    .dataframe tbody tr th:only-of-type {\n",
       "        vertical-align: middle;\n",
       "    }\n",
       "\n",
       "    .dataframe tbody tr th {\n",
       "        vertical-align: top;\n",
       "    }\n",
       "\n",
       "    .dataframe thead th {\n",
       "        text-align: right;\n",
       "    }\n",
       "</style>\n",
       "<table border=\"1\" class=\"dataframe\">\n",
       "  <thead>\n",
       "    <tr style=\"text-align: right;\">\n",
       "      <th>Location</th>\n",
       "      <th>in-store</th>\n",
       "      <th>takeaway</th>\n",
       "      <th>unknown</th>\n",
       "    </tr>\n",
       "    <tr>\n",
       "      <th>Item</th>\n",
       "      <th></th>\n",
       "      <th></th>\n",
       "      <th></th>\n",
       "    </tr>\n",
       "  </thead>\n",
       "  <tbody>\n",
       "    <tr>\n",
       "      <th>cake</th>\n",
       "      <td>319</td>\n",
       "      <td>341</td>\n",
       "      <td>474</td>\n",
       "    </tr>\n",
       "    <tr>\n",
       "      <th>coffee</th>\n",
       "      <td>318</td>\n",
       "      <td>350</td>\n",
       "      <td>490</td>\n",
       "    </tr>\n",
       "    <tr>\n",
       "      <th>cookie</th>\n",
       "      <td>328</td>\n",
       "      <td>361</td>\n",
       "      <td>395</td>\n",
       "    </tr>\n",
       "    <tr>\n",
       "      <th>juice</th>\n",
       "      <td>361</td>\n",
       "      <td>338</td>\n",
       "      <td>468</td>\n",
       "    </tr>\n",
       "    <tr>\n",
       "      <th>salad</th>\n",
       "      <td>367</td>\n",
       "      <td>343</td>\n",
       "      <td>434</td>\n",
       "    </tr>\n",
       "    <tr>\n",
       "      <th>sandwich</th>\n",
       "      <td>367</td>\n",
       "      <td>340</td>\n",
       "      <td>415</td>\n",
       "    </tr>\n",
       "    <tr>\n",
       "      <th>smoothie</th>\n",
       "      <td>321</td>\n",
       "      <td>300</td>\n",
       "      <td>468</td>\n",
       "    </tr>\n",
       "    <tr>\n",
       "      <th>tea</th>\n",
       "      <td>326</td>\n",
       "      <td>334</td>\n",
       "      <td>421</td>\n",
       "    </tr>\n",
       "    <tr>\n",
       "      <th>unknown</th>\n",
       "      <td>291</td>\n",
       "      <td>297</td>\n",
       "      <td>375</td>\n",
       "    </tr>\n",
       "  </tbody>\n",
       "</table>\n",
       "</div>"
      ],
      "text/plain": [
       "Location  in-store  takeaway  unknown\n",
       "Item                                 \n",
       "cake           319       341      474\n",
       "coffee         318       350      490\n",
       "cookie         328       361      395\n",
       "juice          361       338      468\n",
       "salad          367       343      434\n",
       "sandwich       367       340      415\n",
       "smoothie       321       300      468\n",
       "tea            326       334      421\n",
       "unknown        291       297      375"
      ]
     },
     "execution_count": 22,
     "metadata": {},
     "output_type": "execute_result"
    }
   ],
   "source": [
    "location_freq = df3.groupby(\"Item\")[\"Location\"].value_counts().unstack(fill_value=0)\n",
    "location_freq"
   ]
  },
  {
   "cell_type": "code",
   "execution_count": 23,
   "id": "13a75c84",
   "metadata": {},
   "outputs": [
    {
     "data": {
      "text/plain": [
       "Location\n",
       "in-store    9.030354\n",
       "takeaway    8.804094\n",
       "unknown     8.954315\n",
       "Name: Total Spent, dtype: float32"
      ]
     },
     "execution_count": 23,
     "metadata": {},
     "output_type": "execute_result"
    }
   ],
   "source": [
    "avg_spent_per_location = df3.groupby(\"Location\")[\"Total Spent\"].mean()\n",
    "\n",
    "avg_spent_per_location"
   ]
  }
 ],
 "metadata": {
  "kernelspec": {
   "display_name": "Python 3",
   "language": "python",
   "name": "python3"
  },
  "language_info": {
   "codemirror_mode": {
    "name": "ipython",
    "version": 3
   },
   "file_extension": ".py",
   "mimetype": "text/x-python",
   "name": "python",
   "nbconvert_exporter": "python",
   "pygments_lexer": "ipython3",
   "version": "3.13.3"
  }
 },
 "nbformat": 4,
 "nbformat_minor": 5
}

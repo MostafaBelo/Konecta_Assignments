{
 "cells": [
  {
   "cell_type": "markdown",
   "id": "8454ee28",
   "metadata": {},
   "source": [
    "## Full Repo\n",
    "https://github.com/MostafaBelo/Konecta_Assignments/tree/main"
   ]
  },
  {
   "cell_type": "markdown",
   "id": "b40bf5ac",
   "metadata": {},
   "source": [
    "## Imports"
   ]
  },
  {
   "cell_type": "code",
   "execution_count": null,
   "id": "62252700",
   "metadata": {},
   "outputs": [],
   "source": [
    "!pip install -r requirements.txt"
   ]
  },
  {
   "cell_type": "code",
   "execution_count": 1,
   "id": "e0bcdc76",
   "metadata": {},
   "outputs": [],
   "source": [
    "import getpass\n",
    "import os\n",
    "import sys\n",
    "from dotenv import load_dotenv\n",
    "\n",
    "import uuid\n",
    "import json\n",
    "import hashlib\n",
    "\n",
    "from langchain_google_genai import ChatGoogleGenerativeAI\n",
    "\n",
    "from langchain.schema import Document\n",
    "from langchain_community.document_loaders import PyPDFLoader\n",
    "from langchain.text_splitter import RecursiveCharacterTextSplitter\n",
    "\n",
    "import chromadb\n",
    "from chromadb.utils import embedding_functions\n",
    "\n",
    "import sqlite3\n",
    "from langgraph.checkpoint.sqlite import SqliteSaver\n",
    "\n",
    "from langchain_core.messages import SystemMessage, HumanMessage, AIMessage, RemoveMessage\n",
    "\n",
    "from IPython.display import Image, display\n",
    "from langgraph.graph import StateGraph, START, END\n",
    "from langgraph.graph import MessagesState\n",
    "\n",
    "from tqdm import tqdm"
   ]
  },
  {
   "cell_type": "code",
   "execution_count": 2,
   "id": "a0d5880c",
   "metadata": {},
   "outputs": [],
   "source": [
    "# Load .env file\n",
    "load_dotenv()\n",
    "\n",
    "env_keys = [\n",
    "    \"GOOGLE_API_KEY\",\n",
    "]\n",
    "for key in env_keys:\n",
    "    if not os.environ.get(key):\n",
    "        os.environ[key] = getpass.getpass(f\"Enter API key for {key}: \")"
   ]
  },
  {
   "cell_type": "markdown",
   "id": "0158f50a",
   "metadata": {},
   "source": [
    "## Utils"
   ]
  },
  {
   "cell_type": "code",
   "execution_count": null,
   "id": "be9405d4",
   "metadata": {},
   "outputs": [],
   "source": [
    "# Gemini Model\n",
    "model = ChatGoogleGenerativeAI(\n",
    "    model=\"gemini-2.5-flash\",\n",
    "    temperature=0,\n",
    "    max_tokens=None, # Max output tokens\n",
    "    timeout=None,\n",
    "    max_retries=2,\n",
    "    google_api_key=os.environ.get(\"GOOGLE_API_KEY\") # Replace with API key from https://aistudio.google.com/apikey\n",
    ")"
   ]
  },
  {
   "cell_type": "code",
   "execution_count": null,
   "id": "f53fda7c",
   "metadata": {},
   "outputs": [],
   "source": [
    "# Embedings Model\n",
    "sentence_transformer_ef = embedding_functions.SentenceTransformerEmbeddingFunction(\n",
    "    model_name=\"sentence-transformers/all-MiniLM-L6-v2\"\n",
    ")"
   ]
  },
  {
   "cell_type": "markdown",
   "id": "acb41666",
   "metadata": {},
   "source": [
    "## Vector Store - ChromaDB"
   ]
  },
  {
   "cell_type": "code",
   "execution_count": 5,
   "id": "10f2743c",
   "metadata": {},
   "outputs": [],
   "source": [
    "chroma_client = chromadb.PersistentClient(path=\"./db\")"
   ]
  },
  {
   "cell_type": "code",
   "execution_count": 6,
   "id": "b253dce2",
   "metadata": {},
   "outputs": [],
   "source": [
    "collection = chroma_client.get_or_create_collection(\n",
    "    name=\"konecta_assignment_6\",\n",
    "    metadata={\n",
    "        \"loaded_documents\": \"[]\",\n",
    "    },\n",
    "    embedding_function=sentence_transformer_ef\n",
    ")"
   ]
  },
  {
   "cell_type": "code",
   "execution_count": 7,
   "id": "17892d96",
   "metadata": {},
   "outputs": [
    {
     "data": {
      "text/plain": [
       "371"
      ]
     },
     "execution_count": 7,
     "metadata": {},
     "output_type": "execute_result"
    }
   ],
   "source": [
    "collection.count()"
   ]
  },
  {
   "cell_type": "markdown",
   "id": "b6a30f2e",
   "metadata": {},
   "source": [
    "## Manuals Loading"
   ]
  },
  {
   "cell_type": "code",
   "execution_count": 8,
   "id": "71bb8c60",
   "metadata": {},
   "outputs": [
    {
     "name": "stderr",
     "output_type": "stream",
     "text": [
      "PDF Documents: 100%|██████████| 4/4 [00:00<00:00, 45590.26it/s]\n"
     ]
    }
   ],
   "source": [
    "pdf_paths = [os.path.join(\"manuals\", pdf_path) for pdf_path  in os.listdir(\"manuals\")]\n",
    "loaded_documents: list[str] = json.loads(collection.metadata[\"loaded_documents\"])\n",
    "\n",
    "docs: list[Document] = []\n",
    "\n",
    "# Chunker\n",
    "recursive_splitter = RecursiveCharacterTextSplitter(\n",
    "    chunk_size=800, chunk_overlap=120, separators=[\"\\n\\n\", \"\\n\", \" \", \"\"]\n",
    ")\n",
    "\n",
    "# metadata extractors\n",
    "def getId(metadata: str, text: str) -> str:\n",
    "            return hashlib.sha256(f\"{metadata} | {text}\".encode(\"utf-8\")).hexdigest()\n",
    "def getMetaData(full_metadata: dict[str, any]):\n",
    "    res = {\n",
    "        \"document_name\": \"\",\n",
    "        \"page_number\": -1,\n",
    "        \"section_heading\": \"\",\n",
    "    }\n",
    "\n",
    "    if \"source\" in full_metadata:\n",
    "        res[\"document_name\"] = full_metadata[\"source\"]\n",
    "    if \"page\" in full_metadata:\n",
    "        res[\"page_number\"] = full_metadata[\"page\"]\n",
    "\n",
    "    for key in res.keys():\n",
    "        if key in full_metadata:\n",
    "            res[key] = full_metadata[key]\n",
    "    \n",
    "    return res\n",
    "\n",
    "# Documents loading and storing\n",
    "for pdf_path in tqdm(pdf_paths, desc=\"PDF Documents\"):\n",
    "    if pdf_path not in loaded_documents:\n",
    "        loader = PyPDFLoader(pdf_path)\n",
    "        docs = loader.load()  # one Document per page\n",
    "\n",
    "        docs = [c for c in docs if c.page_content != \"\"]\n",
    "\n",
    "        recursive_chunks = recursive_splitter.split_documents(docs)\n",
    "\n",
    "        recursive_chunks = [c for c in recursive_chunks if c.page_content != \"\"]\n",
    "\n",
    "        collection.add(\n",
    "            ids=[getId(str(c.metadata), c.page_content) for c in recursive_chunks],\n",
    "            metadatas=[getMetaData(c.metadata) for c in recursive_chunks],\n",
    "            documents=[c.page_content for c in recursive_chunks],\n",
    "        )\n",
    "\n",
    "        loaded_documents.append(pdf_path)\n",
    "        collection.modify(metadata={\n",
    "             \"loaded_documents\": json.dumps(loaded_documents)\n",
    "        })"
   ]
  },
  {
   "cell_type": "code",
   "execution_count": 9,
   "id": "f1b33e05",
   "metadata": {},
   "outputs": [
    {
     "data": {
      "text/plain": [
       "371"
      ]
     },
     "execution_count": 9,
     "metadata": {},
     "output_type": "execute_result"
    }
   ],
   "source": [
    "collection.count()"
   ]
  },
  {
   "cell_type": "markdown",
   "id": "c6f47c18",
   "metadata": {},
   "source": [
    "## Chat Bot with Memory"
   ]
  },
  {
   "cell_type": "code",
   "execution_count": 10,
   "id": "6a8b64af",
   "metadata": {},
   "outputs": [],
   "source": [
    "# In memory\n",
    "conn = sqlite3.connect(\":memory:\", check_same_thread = False)\n",
    "\n",
    "os.makedirs(\"state_db\", exist_ok=True)\n",
    "db_path = \"state_db/example.db\"\n",
    "conn = sqlite3.connect(db_path, check_same_thread=False)\n",
    "\n",
    "memory = SqliteSaver(conn)"
   ]
  },
  {
   "cell_type": "code",
   "execution_count": 11,
   "id": "f21abab8",
   "metadata": {},
   "outputs": [],
   "source": [
    "system_message = \"\"\"\n",
    "You are a helpful assistant that has access to a few manuals.\n",
    "Answer questions based on previous chat history and the content within the manual snippets provided to you in the prompts.\n",
    "If the question of the user concerns content not covered by previous chat history, not by the manuals and not in the snippets of context retrerived, respond accordingly to the user stating that you don't have the answer.\n",
    "Make sure to cite all your responses from the manuals' metadata. The metadata will include the manual's file name and the page from which the snippet is extracted.\n",
    "\"\"\"\n",
    "\n",
    "rag_system_template = \"\"\"\n",
    "Use the following manual snippets, any previously provided ones, and previous chat history, as context to respond to the following user query. Not all snippets may be relevant.\n",
    "Answer questions based on previous chat history and the content within the manual snippets provided to you in the prompts.\n",
    "If the question of the user concerns content not covered by previous chat history, not by the manuals and not in the snippets of context retrerived, respond accordingly to the user stating that you don't have the answer.\n",
    "Make sure to cite all your responses from the manuals' metadata. The metadata will include the manual's file name and the page from which the snippet is extracted.\n",
    "Also keep in mind the previous chat history in case of follow up questions.\n",
    "\n",
    "{context}\n",
    "\"\"\"\n",
    "\n",
    "def rag_node(state: MessagesState):\n",
    "    global rag_system_template\n",
    "\n",
    "    if len(state[\"messages\"]) < 1:\n",
    "        # raise Exception(\"No Prompt to RAG\")\n",
    "        return {}\n",
    "    \n",
    "    last_message = state[\"messages\"][-1]\n",
    "    if not isinstance(last_message, HumanMessage):\n",
    "        # raise Exception(\"No Prompt to RAG\")\n",
    "        return {}\n",
    "    \n",
    "    document_names: list[str] = json.loads(collection.metadata[\"loaded_documents\"])\n",
    "\n",
    "    combined_results = {\n",
    "        \"documents\": [],\n",
    "        \"metadatas\": []\n",
    "    }\n",
    "\n",
    "    for document_name in document_names:\n",
    "        results = collection.query(\n",
    "            query_texts=[last_message.content],\n",
    "            n_results=5,\n",
    "            where={\n",
    "                \"document_name\": document_name\n",
    "            }\n",
    "        )\n",
    "\n",
    "        combined_results[\"documents\"] += results[\"documents\"][0]\n",
    "        combined_results[\"metadatas\"] += results[\"metadatas\"][0]\n",
    "\n",
    "    context_content = \"\\n\\n\".join([f\"Metadata: {meta}\\nContent: {doc}\" for doc, meta in zip(combined_results[\"documents\"], combined_results[\"metadatas\"])])\n",
    "\n",
    "    context_message = rag_system_template.format(context=context_content)\n",
    "\n",
    "    return {\n",
    "        \"messages\": [\n",
    "            RemoveMessage(id=last_message.id),\n",
    "            SystemMessage(content=context_message),\n",
    "            HumanMessage(content=last_message.content),\n",
    "        ]\n",
    "    }\n",
    "\n",
    "def call_model_node(state: MessagesState):\n",
    "    messages = [SystemMessage(content=system_message)] + state[\"messages\"]\n",
    "    \n",
    "    response = model.invoke(messages)\n",
    "    return {\"messages\": response}"
   ]
  },
  {
   "cell_type": "code",
   "execution_count": 12,
   "id": "63570354",
   "metadata": {},
   "outputs": [
    {
     "data": {
      "image/png": "[encoded data removed]",
      "text/plain": [
       "<IPython.core.display.Image object>"
      ]
     },
     "metadata": {},
     "output_type": "display_data"
    }
   ],
   "source": [
    "# Define a new graph\n",
    "workflow = StateGraph(MessagesState)\n",
    "workflow.add_node(\"rag_context_node\", rag_node)\n",
    "workflow.add_node(\"conversation_node\", call_model_node)\n",
    "\n",
    "# Set the entrypoint as conversation\n",
    "workflow.add_edge(START, \"rag_context_node\")\n",
    "workflow.add_edge(\"rag_context_node\", \"conversation_node\")\n",
    "workflow.add_edge(\"conversation_node\", END)\n",
    "\n",
    "# Compile\n",
    "graph = workflow.compile(checkpointer=memory)\n",
    "display(Image(graph.get_graph().draw_mermaid_png()))"
   ]
  },
  {
   "cell_type": "code",
   "execution_count": 13,
   "id": "88d63a08",
   "metadata": {},
   "outputs": [],
   "source": [
    "class ChatThread:\n",
    "    def __init__(self, thread_id: str | None = None):\n",
    "        if thread_id is None:\n",
    "            self.thread_id = str(uuid.uuid4())\n",
    "        else:\n",
    "            self.thread_id = thread_id\n",
    "        self.config = {\"configurable\": {\"thread_id\": self.thread_id}}\n",
    "\n",
    "        self.state: MessagesState = {\n",
    "            \"messages\": []\n",
    "        }\n",
    "\n",
    "    def invoke(self, prompts: str | list[str]):\n",
    "        if not isinstance(prompts, list):\n",
    "            prompts = [prompts]\n",
    "\n",
    "        for prompt in prompts:\n",
    "            input_message = HumanMessage(content=prompt)\n",
    "            output = graph.invoke({\"messages\": [input_message]}, self.config)\n",
    "\n",
    "        self.state = output\n",
    "\n",
    "    def print_history(self, show_system=False):\n",
    "        for m in self.state[\"messages\"]:\n",
    "            if isinstance(m, SystemMessage) and not(show_system):\n",
    "                continue\n",
    "            m.pretty_print()"
   ]
  },
  {
   "cell_type": "code",
   "execution_count": 14,
   "id": "2fc6b9c3",
   "metadata": {},
   "outputs": [
    {
     "name": "stdout",
     "output_type": "stream",
     "text": [
      "================================\u001b[1m Human Message \u001b[0m=================================\n",
      "\n",
      "what are the different laptop serires covered by the manuals?\n",
      "==================================\u001b[1m Ai Message \u001b[0m==================================\n",
      "\n",
      "The manuals cover the following laptop series:\n",
      "\n",
      "*   **GIGABYTE G6** (manuals/g6_mf.pdf, page 0)\n",
      "*   **Lenovo IdeaPad L340 Series** (manuals/ideapad_l340_series.pdf, page 4)\n",
      "*   **Lenovo LOQ Series** (specifically models 15AHP9, 15ARP9, 15IAX9, 15IAX9I, and 15IRX9) (manuals/loq_15ahp9.pdf, page 0)\n",
      "*   **ASUS TUF Gaming F17 (FX707Z) series** (manuals/tuf_gaming_f17_series.pdf, page 3, 5)\n",
      "================================\u001b[1m Human Message \u001b[0m=================================\n",
      "\n",
      "what ram does each laptop series in any of the manuals have?\n",
      "==================================\u001b[1m Ai Message \u001b[0m==================================\n",
      "\n",
      "Based on the provided manuals, here is the RAM information for each laptop series:\n",
      "\n",
      "*   **GIGABYTE G6:** The specific type or capacity of RAM is not detailed in the provided snippets for this series (manuals/g6_mf.pdf).\n",
      "*   **Lenovo IdeaPad L340 Series:** This series uses Double Data Rate 4 (DDR4) Small Outline Dual In-line Memory Modules (SODIMM) (manuals/ideapad_l340_series.pdf, page 13).\n",
      "*   **Lenovo LOQ Series (15AHP9, 15ARP9, 15IAX9, 15IAX9I, and 15IRX9):** These models use Double Data Rate 5 (DDR5) Small Outline Dual In-line Memory Modules (SO-DIMM) and have 2 physical slots (manuals/loq_15ahp9.pdf, page 15).\n",
      "*   **ASUS TUF Gaming F17 (FX707Z) series:** The manual mentions \"DDR\" as a component and provides instructions for installing \"RAM\" or \"Memory Module,\" but it does not specify the exact type (e.g., DDR4, DDR5) (manuals/tuf_gaming_f17_series.pdf, page 3, 6, 15).\n"
     ]
    }
   ],
   "source": [
    "chat = ChatThread()\n",
    "\n",
    "prompts = [\n",
    "    \"what are the different laptop serires covered by the manuals?\",\n",
    "    \"what ram does each laptop series in any of the manuals have?\",\n",
    "]\n",
    "chat.invoke(prompts)\n",
    "\n",
    "chat.print_history()"
   ]
  },
  {
   "cell_type": "code",
   "execution_count": 15,
   "id": "c61140fa",
   "metadata": {},
   "outputs": [
    {
     "name": "stdout",
     "output_type": "stream",
     "text": [
      "================================\u001b[1m Human Message \u001b[0m=================================\n",
      "\n",
      "How do phones work?\n",
      "==================================\u001b[1m Ai Message \u001b[0m==================================\n",
      "\n",
      "I apologize, but the provided manuals do not contain information on how phones work. The manuals focus on the features and components of GIGABYTE, Lenovo IdeaPad, Lenovo LOQ, and ASUS TUF Gaming laptops.\n"
     ]
    }
   ],
   "source": [
    "chat = ChatThread()\n",
    "\n",
    "prompts = [\n",
    "    \"How do phones work?\",\n",
    "]\n",
    "chat.invoke(prompts)\n",
    "\n",
    "chat.print_history()"
   ]
  },
  {
   "cell_type": "code",
   "execution_count": null,
   "id": "d1bed280",
   "metadata": {},
   "outputs": [
    {
     "name": "stdout",
     "output_type": "stream",
     "text": [
      "================================\u001b[1m Human Message \u001b[0m=================================\n",
      "\n",
      "what are the hotkeys and their functions of Gigabyte G6?\n",
      "==================================\u001b[1m Ai Message \u001b[0m==================================\n",
      "\n",
      "The Gigabyte G6 computer employs hotkeys, which are key combinations used to access various controls. To activate these hotkeys, you need to press and hold the `<Fn>` key before pressing the other key in the combination.\n",
      "\n",
      "Here are the hotkeys and their functions:\n",
      "\n",
      "*   **Fn + ~**: Play / Pause (in Audio/Video Programs)\n",
      "*   **Fn + F1**: Touchpad Toggle\n",
      "*   **Fn + F2**: Turn LCD Backlight OFF (Press a key or use Touchpad to turn on)\n",
      "*   **Fn + F3**: Mute Toggle\n",
      "*   **Fn + F5/F6**: Volume Decrease/Increase\n",
      "*   **Fn + F7**: Display Toggle\n",
      "*   **Fn + F8/F9**: Brightness Decrease/Increase\n",
      "*   **Fn + F10**: PC Camera Power on and Off\n",
      "*   **Fn + F11**: Airplane Mode Toggle\n",
      "*   **Fn + F12**: Sleep Toggle\n",
      "*   **NumLK**: Number Lock Toggle\n",
      "*   **Fn + ScrLK**: Scroll Lock Toggle\n",
      "*   **Caps Lock**: Caps Lock Toggle\n",
      "*   **Fn + Esc**: Control Center Toggle\n",
      "*   **Fn + !**: Fan Automatic Control / Full Power\n",
      "*   **Fn + Backspace**: Disable/Enable Flexikey®\n",
      "*   **Fn + #**: Power Modes Toggle\n",
      "*   **Fn + (Up Arrow)**: Launch the LED Keyboard Application\n",
      "*   **Fn + (Right Arrow)**: Toggle the Keyboard LED On/Off\n",
      "*   **Fn + (Left Arrow)**: Keyboard LED Illumination Decrease\n",
      "*   **Fn + (Down Arrow)**: Keyboard LED Illumination Increase\n",
      "\n",
      "(Source: manuals/g6_mf.pdf, page 3)\n",
      "================================\u001b[1m Human Message \u001b[0m=================================\n",
      "\n",
      "Which of them would I use to put the laptop to sleep?\n",
      "==================================\u001b[1m Ai Message \u001b[0m==================================\n",
      "\n",
      "To put the Gigabyte G6 laptop to sleep, you would use the hotkey combination **Fn + F12**. This functions as the Sleep Toggle.\n",
      "\n",
      "(Source: manuals/g6_mf.pdf, page 3)\n"
     ]
    }
   ],
   "source": [
    "chat = ChatThread()\n",
    "\n",
    "prompts = [\n",
    "    \"what are the hotkeys and their functions of Gigabyte G6?\",\n",
    "    \"Which of them would I use to put the laptop to sleep?\",\n",
    "]\n",
    "chat.invoke(prompts)\n",
    "\n",
    "chat.print_history()"
   ]
  },
  {
   "cell_type": "code",
   "execution_count": null,
   "id": "0e14bd9e",
   "metadata": {},
   "outputs": [
    {
     "name": "stdout",
     "output_type": "stream",
     "text": [
      "================================\u001b[1m Human Message \u001b[0m=================================\n",
      "\n",
      "Which of the laptops has the best help and support post-purchase?\n",
      "==================================\u001b[1m Ai Message \u001b[0m==================================\n",
      "\n",
      "Based on the provided manual snippets, the **Lenovo LOQ series** appears to offer the most comprehensive help and support post-purchase, as it explicitly states that additional services can be purchased both during and after the warranty period (manuals/loq_15ahp9.pdf, page 40).\n",
      "\n",
      "Here's a breakdown of the support mentioned for each:\n",
      "\n",
      "*   **Lenovo LOQ 15AHP9, 15ARP9, 15IAX9, 15IAX9I, and 15IRX9:**\n",
      "    *   Offers services during the warranty period including problem determination, Lenovo hardware repair, and engineering change management (manuals/loq_15ahp9.pdf, page 39).\n",
      "    *   Crucially, you can **purchase additional services during and after the warranty period** (manuals/loq_15ahp9.pdf, page 40).\n",
      "\n",
      "*   **Lenovo IdeaPad L340 Series:**\n",
      "    *   Provides \"Lenovo Vantage,\" a customized one-stop solution for automated updates, fixes, hardware settings, and personalized support, including system updates for firmware and drivers (manuals/ideapad_l340_series.pdf, page 19).\n",
      "    *   Offers services during the warranty period such as problem determination, Lenovo hardware repair, and engineering change management (manuals/ideapad_l340_series.pdf, page 39).\n",
      "\n",
      "*   **GIGABYTE G6 MF:**\n",
      "    *   Provides links to a GIGABYTE service website for warranty and service information, as well as a link for FAQs (manuals/g6_mf.pdf, page 7).\n",
      "\n",
      "*   **ASUS TUF Gaming F17 (FX707Z) series:**\n",
      "    *   The provided snippets focus on a service guide, disassembly steps, and repair overview, but do not detail user-facing help, support, or warranty services for the end-user (manuals/tuf_gaming_f17_series.pdf, page 0, 2, 3, 8).\n",
      "\n",
      "While both Lenovo models offer strong support during the warranty, the explicit mention of purchasing additional services *after* the warranty period for the Lenovo LOQ series makes it stand out for long-term post-purchase support.\n",
      "================================\u001b[1m Human Message \u001b[0m=================================\n",
      "\n",
      "Which of the laptops is objectively the most capable specs wise?\n",
      "==================================\u001b[1m Ai Message \u001b[0m==================================\n",
      "\n",
      "Based on the provided manual snippets, it is challenging to definitively declare one laptop as \"objectively the most capable specs-wise\" because crucial specifications like specific CPU models, GPU models, and RAM capacities are not consistently provided for all models.\n",
      "\n",
      "However, we can highlight the strengths of each based on the available information:\n",
      "\n",
      "*   **Lenovo LOQ 15AHP9, 15ARP9, 15IAX9, 15IAX9I, and 15IRX9:**\n",
      "    *   **Display:** Offers the highest specified display resolution and refresh rate among the listed laptops, with options for **2560 × 1440 pixels (WQHD models)** and a maximum refresh rate of **165 Hz or 144 Hz** (manuals/loq_15ahp9.pdf, page 16).\n",
      "    *   **Storage:** Specifies Solid-state drive (SSD) with **M.2 2242 or M.2 2280 form factors** and a **PCI Express bus**, which generally indicates faster performance than SATA (manuals/loq_15ahp9.pdf, page 16).\n",
      "    *   **Connectivity:** Features **Wi-Fi 6** and **Bluetooth 5.2**, along with SuperSpeed USB 5 Gbps and an HDMI connector supporting up to **3840 × 2160 @ 60 Hz** (manuals/loq_15ahp9.pdf, page 17).\n",
      "\n",
      "*   **ASUS TUF Gaming F17 (FX707Z) series:**\n",
      "    *   **Connectivity:** Stands out with a **Thunderbolt™ 4 port**, which offers high-speed data transfer, video output, and power delivery capabilities (manuals/tuf_gaming_f17_series.pdf, page 5). It also includes a USB 3.2 Gen 2 Type-C®/DisplayPort/Power Delivery combo port and a LAN port (manuals/tuf_gaming_f17_series.pdf, page 5).\n",
      "    *   **Battery:** Mentions a **90W battery** (manuals/tuf_gaming_f17_series.pdf, page 6).\n",
      "\n",
      "*   **Lenovo IdeaPad L340 Series:**\n",
      "    *   **Storage:** Offers a variety of storage options including **2.5 Inch SATA SSD, M.2 PCIe/SATA SSD*, 2.5 Inch SATA HDD, and Intel® Optane™ memory** (manuals/ideapad_l340_series.pdf, page 13).\n",
      "    *   **Display:** Available in 15.6-inch and 17.3-inch models, with resolutions up to **1920 x 1080 pixels FHD** (manuals/ideapad_l340_series.pdf, page 13).\n",
      "\n",
      "*   **GIGABYTE G6 MF:**\n",
      "    *   **Connectivity:** Includes USB 3.2 (Type-A and Type-C), USB 2.0, Ethernet, HDMI, and a **Mini DisplayPort 1.4** (manuals/g6_mf.pdf, page 2).\n",
      "\n",
      "**Conclusion:**\n",
      "\n",
      "Based on the available details:\n",
      "\n",
      "*   The **Lenovo LOQ series** appears to have the most capable **display specifications** (WQHD resolution and high refresh rates).\n",
      "*   The **ASUS TUF Gaming F17 series** offers the most advanced **connectivity** with its Thunderbolt™ 4 port.\n",
      "\n",
      "Without specific CPU, GPU, and RAM capacities for all models, a complete objective comparison of overall capability is not possible from the provided snippets.\n",
      "================================\u001b[1m Human Message \u001b[0m=================================\n",
      "\n",
      "In your opinion, which of the laptops would be the besst balance between customer support and specs?\n",
      "==================================\u001b[1m Ai Message \u001b[0m==================================\n",
      "\n",
      "Based on the provided information, the **Lenovo LOQ series (15AHP9, 15ARP9, 15IAX9, 15IAX9I, and 15IRX9)** appears to offer the best balance between customer support and specifications.\n",
      "\n",
      "Here's why:\n",
      "\n",
      "*   **Customer Support:** The Lenovo LOQ series explicitly states that you can **purchase additional services during and after the warranty period** (manuals/loq_15ahp9.pdf, page 40). This indicates a robust and flexible long-term support system beyond the initial warranty, which is a significant advantage for post-purchase care. It also offers standard warranty services like problem determination, hardware repair, and engineering change management (manuals/loq_15ahp9.pdf, page 39).\n",
      "*   **Specifications:** The Lenovo LOQ series boasts the highest specified display resolution and refresh rate among the listed laptops, with options for **2560 × 1440 pixels (WQHD models)** and a maximum refresh rate of **165 Hz or 144 Hz** (manuals/loq_15ahp9.pdf, page 16). It also specifies SSD storage with a **PCI Express bus**, generally indicating faster performance (manuals/loq_15ahp9.pdf, page 16).\n",
      "\n",
      "While the ASUS TUF Gaming F17 series offers a notable Thunderbolt™ 4 port (manuals/tuf_gaming_f17_series.pdf, page 5), the provided snippets lack detailed information regarding its customer support services, making it difficult to assess its balance. The Lenovo IdeaPad L340 series offers good support through Lenovo Vantage and standard warranty services (manuals/ideapad_l340_series.pdf, page 19, 39), but its display specifications (up to 1920 x 1080 FHD) are not as high as the LOQ series (manuals/ideapad_l340_series.pdf, page 13). The GIGABYTE G6 MF provides links to support resources but doesn't detail the extent of its services (manuals/g6_mf.pdf, page 7).\n",
      "\n",
      "Therefore, the **Lenovo LOQ series** strikes a strong balance by offering excellent, long-term customer support options alongside impressive display and storage specifications.\n"
     ]
    }
   ],
   "source": [
    "chat = ChatThread()\n",
    "\n",
    "prompts = [\n",
    "    \"Which of the laptops has the best help and support post-purchase?\",\n",
    "    \"Which of the laptops is objectively the most capable specs wise?\",\n",
    "    \"In your opinion, which of the laptops would be the besst balance between customer support and specs?\",\n",
    "]\n",
    "chat.invoke(prompts)\n",
    "\n",
    "chat.print_history()"
   ]
  },
  {
   "cell_type": "code",
   "execution_count": 19,
   "id": "3bb545df",
   "metadata": {},
   "outputs": [
    {
     "name": "stdout",
     "output_type": "stream",
     "text": [
      "================================\u001b[1m Human Message \u001b[0m=================================\n",
      "\n",
      "How is each laptop's battery-life?\n",
      "==================================\u001b[1m Ai Message \u001b[0m==================================\n",
      "\n",
      "I apologize, but the provided manual snippets do not contain information regarding the specific battery life (how long the battery lasts on a single charge) for any of the laptops.\n",
      "\n",
      "However, the manuals do provide details on battery charging times and management:\n",
      "\n",
      "*   **Lenovo IdeaPad L340 Series:** The battery is fully charged in approximately four to eight hours. If the power adapter supports rapid charge, the battery can reach 80% charge in about 1 hour when the computer is turned off. The recommended temperature range for charging is between 10°C (50°F) and 35°C (95°F). The computer will not start recharging if the remaining power is greater than 95% to maximize battery life (manuals/ideapad_l340_series.pdf, page 26).\n",
      "*   **Lenovo LOQ 15ahp9:** In normal charging mode, it typically takes 2 to 4 hours for the battery to charge from 0% to 100%. The recommended temperature range for charging is between 10°C (50°F) and 35°C (95°F). To maximize battery life, once fully charged, the battery must discharge to 94% or lower before it will recharge again (manuals/loq_15ahp9.pdf, page 30). There is also a conservation mode that keeps the battery charge between 75%-80% for long-term health (manuals/loq_15ahp9.pdf, page 31).\n",
      "*   **GIGABYTE G6:** The manual advises against removing the built-in lithium battery and notes that storing or using the Notebook PC in direct sunlight or temperatures exceeding 112°F (45°C) can lead to Lithium-ion battery expansion and aging (manuals/g6_mf.pdf, page 2).\n"
     ]
    }
   ],
   "source": [
    "chat = ChatThread()\n",
    "\n",
    "prompts = [\n",
    "    \"How is each laptop's battery-life?\",\n",
    "]\n",
    "chat.invoke(prompts)\n",
    "\n",
    "chat.print_history()"
   ]
  }
 ],
 "metadata": {
  "kernelspec": {
   "display_name": "Python 3",
   "language": "python",
   "name": "python3"
  },
  "language_info": {
   "codemirror_mode": {
    "name": "ipython",
    "version": 3
   },
   "file_extension": ".py",
   "mimetype": "text/x-python",
   "name": "python",
   "nbconvert_exporter": "python",
   "pygments_lexer": "ipython3",
   "version": "3.13.3"
  }
 },
 "nbformat": 4,
 "nbformat_minor": 5
}
